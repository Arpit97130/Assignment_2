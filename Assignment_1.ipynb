{
 "cells": [
  {
   "cell_type": "raw",
   "id": "d22bbdf7-6f21-48ac-9dbc-6bc21b302713",
   "metadata": {},
   "source": [
    "# Q1. Accept percentage from user and display the grades"
   ]
  },
  {
   "cell_type": "code",
   "execution_count": 6,
   "id": "3031c050-44c8-4c1f-8173-039f4cb5a5f4",
   "metadata": {},
   "outputs": [
    {
     "name": "stdin",
     "output_type": "stream",
     "text": [
      "enter your percentage  98\n"
     ]
    },
    {
     "name": "stdout",
     "output_type": "stream",
     "text": [
      "GRADE A\n"
     ]
    }
   ],
   "source": [
    "percentage = int(input(\"enter your percentage \"))\n",
    "if percentage > 90:\n",
    "    print(\"GRADE A\")\n",
    "elif percentage > 80 and percentage <= 90:\n",
    "    print(\"GRADE B\")\n",
    "elif percentage >= 60 and percentage <= 80:\n",
    "    print(\"GRADE C\")\n",
    "else:\n",
    "    print(\"GRADE D\")"
   ]
  },
  {
   "cell_type": "raw",
   "id": "b0af5761-9bb2-435f-a692-4d315d750cdb",
   "metadata": {},
   "source": [
    "# Q2. Accept cost price of car and display road tax"
   ]
  },
  {
   "cell_type": "code",
   "execution_count": 8,
   "id": "cf6b99da-d6e9-45b9-b816-7de61bf15728",
   "metadata": {},
   "outputs": [
    {
     "name": "stdin",
     "output_type": "stream",
     "text": [
      "enter the price  90000\n"
     ]
    },
    {
     "name": "stdout",
     "output_type": "stream",
     "text": [
      "10%\n"
     ]
    }
   ],
   "source": [
    "cost_price = int(input(\"enter the price \"))\n",
    "if cost_price > 100000:\n",
    "    print(\"15%\")\n",
    "elif cost_price > 50000 and cost_price <= 100000:\n",
    "    print(\"10%\")\n",
    "else:\n",
    "    print(\"5%\")"
   ]
  },
  {
   "cell_type": "raw",
   "id": "85237d36-5294-492f-84ea-2756d608350f",
   "metadata": {},
   "source": [
    "# Q3. Accept any city from user and display monuments"
   ]
  },
  {
   "cell_type": "code",
   "execution_count": 10,
   "id": "9725a1b6-1a98-4a55-85d1-2216f3f7ac2a",
   "metadata": {},
   "outputs": [
    {
     "name": "stdin",
     "output_type": "stream",
     "text": [
      "enter the city agra\n"
     ]
    },
    {
     "name": "stdout",
     "output_type": "stream",
     "text": [
      "TAJ MAHAL\n"
     ]
    }
   ],
   "source": [
    "city = input(\"enter the city\")\n",
    "if city == \"delhi\":\n",
    "    print(\"RED FORT\")\n",
    "elif city == \"agra\":\n",
    "    print(\"TAJ MAHAL\")\n",
    "elif city == \"jaipur\":\n",
    "    print(\"JAL MAHAL\")\n",
    "    "
   ]
  },
  {
   "cell_type": "raw",
   "id": "07844fd7-5dbf-4fff-a8e6-340030f7c074",
   "metadata": {},
   "source": [
    "# Q4. how many times given number divided by 3"
   ]
  },
  {
   "cell_type": "code",
   "execution_count": 6,
   "id": "1b5949c7-2a6a-4597-adf1-e60e3c0ae0fa",
   "metadata": {},
   "outputs": [
    {
     "name": "stdin",
     "output_type": "stream",
     "text": [
      "enter the number 4\n"
     ]
    },
    {
     "data": {
      "text/plain": [
       "0"
      ]
     },
     "execution_count": 6,
     "metadata": {},
     "output_type": "execute_result"
    }
   ],
   "source": [
    "n = int(input(\"enter the number\"))\n",
    "count = 0\n",
    "while n > 10:\n",
    "    n=n/3\n",
    "    count+=1\n",
    "count     "
   ]
  },
  {
   "cell_type": "raw",
   "id": "c78d4dd3-492a-470e-a27b-86fdef36e9a1",
   "metadata": {},
   "source": [
    "# Q5. why and when to use whie loop with example ."
   ]
  },
  {
   "cell_type": "code",
   "execution_count": null,
   "id": "5e2e7a50-7024-4097-8be1-d20b1a878a8f",
   "metadata": {},
   "outputs": [],
   "source": [
    "Answer : while loop is operated when we dont know the number of times loop runs and until condition is true."
   ]
  },
  {
   "cell_type": "code",
   "execution_count": 3,
   "id": "cebac976-dc48-477a-86c2-4536608c4a5e",
   "metadata": {},
   "outputs": [
    {
     "data": {
      "text/plain": [
       "55"
      ]
     },
     "execution_count": 3,
     "metadata": {},
     "output_type": "execute_result"
    }
   ],
   "source": [
    "#example :\n",
    "n=10\n",
    "sum=0\n",
    "while n > 0 :\n",
    "    sum+=n\n",
    "    n=n-1\n",
    "sum"
   ]
  },
  {
   "cell_type": "code",
   "execution_count": 2,
   "id": "f2f4a47a-36ff-4c42-bf99-9da9055fe2c3",
   "metadata": {},
   "outputs": [
    {
     "name": "stdout",
     "output_type": "stream",
     "text": [
      "* \n",
      "* * \n",
      "* * * \n",
      "* * * * \n",
      "* * * * * \n"
     ]
    }
   ],
   "source": [
    "# Q6. while loop to print 3 different pattern .\n",
    "n=5\n",
    "i=0\n",
    "while i<n:\n",
    "    j=0\n",
    "    while j<=i:\n",
    "        print(\"*\",end =\" \")\n",
    "        j+=1\n",
    "    i+=1\n",
    "    print()"
   ]
  },
  {
   "cell_type": "raw",
   "id": "d352e750-a1d0-43ac-9605-8e821382cab7",
   "metadata": {},
   "source": [
    "# Q7. Reverse the while loop to display 10 to 1 ."
   ]
  },
  {
   "cell_type": "code",
   "execution_count": 2,
   "id": "c14d668f-6dd6-4dd9-978f-8f2a5143d459",
   "metadata": {},
   "outputs": [
    {
     "data": {
      "text/plain": [
       "[10, 9, 8, 7, 6, 5, 4, 3, 2, 1]"
      ]
     },
     "execution_count": 2,
     "metadata": {},
     "output_type": "execute_result"
    }
   ],
   "source": [
    "n = 10\n",
    "l =[]\n",
    "while n > 0:\n",
    "    l.append(n)\n",
    "    n = n-1\n",
    "l    "
   ]
  },
  {
   "cell_type": "raw",
   "id": "6b078e51-e370-4afc-bdd5-01fccc60141f",
   "metadata": {},
   "source": [
    "# Q8. Reverse the for loop to display 10 to 1 ."
   ]
  },
  {
   "cell_type": "code",
   "execution_count": 6,
   "id": "51413134-a74c-486c-9515-203718118ef4",
   "metadata": {},
   "outputs": [
    {
     "name": "stdout",
     "output_type": "stream",
     "text": [
      "10\n",
      "9\n",
      "8\n",
      "7\n",
      "6\n",
      "5\n",
      "4\n",
      "3\n",
      "2\n",
      "1\n"
     ]
    }
   ],
   "source": [
    "for i in range(10):\n",
    "    print(10-i)"
   ]
  }
 ],
 "metadata": {
  "kernelspec": {
   "display_name": "Python 3 (ipykernel)",
   "language": "python",
   "name": "python3"
  },
  "language_info": {
   "codemirror_mode": {
    "name": "ipython",
    "version": 3
   },
   "file_extension": ".py",
   "mimetype": "text/x-python",
   "name": "python",
   "nbconvert_exporter": "python",
   "pygments_lexer": "ipython3",
   "version": "3.10.8"
  }
 },
 "nbformat": 4,
 "nbformat_minor": 5
}
